{
 "cells": [
  {
   "cell_type": "markdown",
   "metadata": {},
   "source": [
    "## Importance Sampling\n",
    "In this notebook, I would like to introduce the method of importanece sampling, and show how this method can result in conventional Monte Carlo simulations for tail probabilities that require fewer trials than with brute-force sampling of the distribution."
   ]
  },
  {
   "cell_type": "code",
   "execution_count": 1,
   "metadata": {},
   "outputs": [],
   "source": [
    "import numpy as np\n",
    "import matplotlib.pyplot as plt\n",
    "from scipy.stats import norm\n",
    "\n",
    "%matplotlib inline"
   ]
  },
  {
   "cell_type": "markdown",
   "metadata": {},
   "source": [
    "## [Monte Carlo Simulation](https://en.wikipedia.org/wiki/Monte_Carlo_method)\n",
    "In MC simulation, we just sample from a given distribution and see how much you can approximate the distribution by the random sampling. So to see how efficient this method is, I'd like to do some experiments.\n",
    "\n",
    "### Experiment\n",
    "We will apply MC to approximate the Gaussian Distribution with\n",
    "- $\\mu$: 0\n",
    "- $\\sigma$: 1  \n",
    "which is simply saying Normal distribution.\n",
    "\n",
    "So, as a first step, let's define the Gaussian function and plot it using\n",
    "\n",
    "- Matplotlib\n",
    "- Numpy\n",
    "- Scipy"
   ]
  },
  {
   "cell_type": "code",
   "execution_count": 2,
   "metadata": {},
   "outputs": [],
   "source": [
    "# instantiate the variables\n",
    "Mu    = 0\n",
    "Sigma = 1"
   ]
  },
  {
   "cell_type": "markdown",
   "metadata": {},
   "source": [
    "### [Univariate Gaussian Distribution](https://en.wikipedia.org/wiki/Normal_distribution)\n",
    "$$\n",
    "f(x | \\mu, \\sigma^2) = \\frac{1}{\\sqrt{2\\pi\\sigma^2}} \\exp \\big(- \\frac{ (x-\\mu)^2}{\\sigma^2} \\big)\n",
    "$$"
   ]
  },
  {
   "cell_type": "code",
   "execution_count": 3,
   "metadata": {},
   "outputs": [],
   "source": [
    "# define Gaussian function\n",
    "def Gaussian(Mu, Sigma, x):\n",
    "  return np.array(((2*np.pi*Sigma**2)**-.5)*np.exp( -( x-Mu )**2/(2*Sigma**2) ))"
   ]
  },
  {
   "cell_type": "code",
   "execution_count": 4,
   "metadata": {},
   "outputs": [],
   "source": [
    "# check if our Gaussian function is correctly implemented\n",
    "assert Gaussian(Mu, Sigma, 1) == norm.pdf(1)"
   ]
  },
  {
   "cell_type": "code",
   "execution_count": 5,
   "metadata": {},
   "outputs": [
    {
     "data": {
      "text/plain": [
       "[<matplotlib.lines.Line2D at 0x7ff3b9299630>]"
      ]
     },
     "execution_count": 5,
     "metadata": {},
     "output_type": "execute_result"
    },
    {
     "data": {
      "image/png": "[encoded data removed]",
      "text/plain": [
       "<Figure size 432x288 with 1 Axes>"
      ]
     },
     "metadata": {
      "needs_background": "light"
     },
     "output_type": "display_data"
    }
   ],
   "source": [
    "count, bins, ignored = plt.hist(np.random.normal(Mu, Sigma, 1000), 30, density=True)\n",
    "plt.plot(bins, Gaussian(Mu, Sigma, bins),linewidth=2, color='r')"
   ]
  },
  {
   "cell_type": "markdown",
   "metadata": {},
   "source": [
    "### MC Simulation\n",
    "Simplified Formula is as follows\n",
    "$$\n",
    "P(X \\leq \\gamma) = \\int^{\\infty}_{\\gamma} f_X(x) dx = p_{\\gamma} \\\\\n",
    "\\hat{p}_{\\gamma} = \\frac{1}{K} \\sum^K_{k=1} u(X_k - \\gamma) \\\\\n",
    "E[\\hat{p}_{\\gamma}] = p_{\\gamma} \\\\\n",
    "\\text{Var}[\\hat{p}_{\\gamma}] = \\frac{p_{\\gamma} (1 - p_{\\gamma})}{K}\n",
    "$$\n",
    "\n",
    "where\n",
    "\n",
    "- $f_X(x)$: Target function/Distribution which takes $x$ as an input\n",
    "- $\\gamma$: threshold\n",
    "- $u$: [Indicator Function](https://en.wikipedia.org/wiki/Indicator_function)\n",
    "- $X$: Random Variable\n",
    "\n",
    "Before jumping into the simulation, let's have some visual aid to enhance our understanding.  \n",
    "Let's say, we set a value between 1 to 2 to gamma, then the resultant distribution will look like below"
   ]
  },
  {
   "cell_type": "code",
   "execution_count": 6,
   "metadata": {},
   "outputs": [
    {
     "data": {
      "text/plain": [
       "<matplotlib.legend.Legend at 0x7ff3b71c1f60>"
      ]
     },
     "execution_count": 6,
     "metadata": {},
     "output_type": "execute_result"
    },
    {
     "data": {
      "image/png": "[encoded data removed]",
      "text/plain": [
       "<Figure size 432x288 with 1 Axes>"
      ]
     },
     "metadata": {
      "needs_background": "light"
     },
     "output_type": "display_data"
    }
   ],
   "source": [
    "values = bins # one of the output of plt.hist\n",
    "index_of_gamma = 20\n",
    "gamma = values[index_of_gamma]\n",
    "\n",
    "plt.plot(bins, Gaussian(Mu, Sigma, values),linewidth=2, color='r', label=\"Normal Distribution\")\n",
    "plt.fill_between(values[index_of_gamma:], Gaussian(Mu, Sigma, values[index_of_gamma:]), label=\"Region larger than Gamma\")\n",
    "plt.axvline(x=values[index_of_gamma], label=\"Gamma\")\n",
    "plt.legend(loc='upper left')"
   ]
  },
  {
   "cell_type": "markdown",
   "metadata": {},
   "source": [
    "So, through the process and maths described aboeve, we will approximate the region, which is filled with blue.  \n",
    "But, you might wonder what exactly I meant by `approximate` the region, because the region is a 2D area so that it is hardly caculatable by Programming Language. Indeed, the answer is yes we can!  \n",
    "\n",
    "It is because, the region can be considered as the probability that we get some values larger than the threshold($\\gamma$). So what we needed to do is just a calculation of CDF(Cumulative density function) of a given distribution.\n",
    "\n",
    "To do this, we will use some useful APIs of [Scipy](https://docs.scipy.org/doc/scipy-0.16.1/reference/generated/scipy.stats.norm.html), which are \n",
    "- `norm.cdf`: Cumulative density function.\n",
    "- `norm.ppf`: Percent point function (inverse of cdf — percentiles)."
   ]
  },
  {
   "cell_type": "code",
   "execution_count": 10,
   "metadata": {},
   "outputs": [],
   "source": [
    "# use case\n",
    "temp1 = norm.cdf(gamma)\n",
    "temp2 = norm.ppf(temp1)\n",
    "# check if the gamma and inverted ppf do match\n",
    "assert round(gamma, 3) == round(temp2, 3)"
   ]
  },
  {
   "cell_type": "code",
   "execution_count": 11,
   "metadata": {},
   "outputs": [
    {
     "data": {
      "text/plain": [
       "(1.138219229588418, 0.8724855245025238, 1.1382192295884177)"
      ]
     },
     "execution_count": 11,
     "metadata": {},
     "output_type": "execute_result"
    }
   ],
   "source": [
    "gamma, norm.cdf(gamma), norm.ppf(temp1)"
   ]
  },
  {
   "cell_type": "code",
   "execution_count": 38,
   "metadata": {
    "scrolled": true
   },
   "outputs": [
    {
     "name": "stdout",
     "output_type": "stream",
     "text": [
      "0.09090909090909091 0.1275144754974762\n",
      "0.0 0.1275144754974762\n",
      "0.0 0.1275144754974762\n",
      "0.0 0.1275144754974762\n",
      "0.13333333333333333 0.1275144754974762\n",
      "done\n",
      "5\n"
     ]
    }
   ],
   "source": [
    "larger_than_gamma = norm.cdf(gamma) # probability that we get bigger value than gamma\n",
    "for i in range(1,13):\n",
    "  MC_region = np.mean( np.random.normal(Mu, Sigma, 10^i) - gamma > 0 )\n",
    "  print(MC_region, 1-larger_than_gamma)\n",
    "  if MC_region > 1-larger_than_gamma:\n",
    "    print(\"done\")\n",
    "    break\n",
    "print(i)"
   ]
  },
  {
   "cell_type": "markdown",
   "metadata": {},
   "source": [
    "### Interpretation of this simulation result\n",
    "What we have done above is that we have repeatedly obtained samples from the normal distribution, which has the mean of 0 and the variance of 1, and compared the observation with **Gamma**. Then if it is larger than Gamma, then we get 1 otherwise 0(Indicator Function). Then, we averaged the result to get the probability that we would obtain a sample which has a larger value than Gamma.\n",
    "\n",
    "Finally, `MC_region > 1-larger_than_gamma` does confirm if our MC simulation could get the better result than the orignal disbtribution."
   ]
  },
  {
   "cell_type": "markdown",
   "metadata": {},
   "source": [
    "## Importance Sampling\n",
    "Now, we will move on to do Importance Sampling. let's start with checking the formula.\n",
    "$$\n",
    "P[X \\leq \\gamma] = \\int^{\\infty}_{\\gamma} f_X(x) dx \\\\\n",
    " = \\int^{\\infty}_{\\gamma} \\frac{f_X(x)}{f_Y(x)} f_Y(x) dx = p_{\\gamma} \\\\\n",
    "\\hat{p}_{\\gamma} = \\frac{1}{K} \\sum^K_{k=1} \\frac{u(Y_k - \\gamma) f_X(Y_k)}{f_Y(Y_k)}\\\\\n",
    "\\text{Var}[\\hat{p}_{\\gamma}] = \\frac{\\text{Var}[ \\frac{u(Y_k - \\gamma) f_X(Y_k)}{f_Y(Y_k)} ]}{K}\n",
    "$$\n",
    "where\n",
    "\n",
    "- $X$: Random variable => $X \\sim N(0,1)$\n",
    "- $Y$: Random variable => $Y \\sim N(\\gamma,1)$\n",
    "- $f_Y$: Proposal Distribution\n",
    "- $f_X$: Target Distribution"
   ]
  },
  {
   "cell_type": "code",
   "execution_count": 48,
   "metadata": {},
   "outputs": [
    {
     "name": "stdout",
     "output_type": "stream",
     "text": [
      "0.5454545454545454 0.1275144754974762\n",
      "done\n",
      "1\n"
     ]
    }
   ],
   "source": [
    "larger_than_gamma = norm.cdf(gamma) # probability that we get bigger value than gamma\n",
    "for i in range(1,13):\n",
    "  # at this point, we rather use more wide Gaussian Distribution with the variance of 10\n",
    "  # the target distribution is Normal distribution, so we are 10 times likely to get larger value than gamma\n",
    "  # compared to the target distribution, because the variance is 10 times bigger in Proposal distribution.\n",
    "  MC_region = np.mean( np.random.normal(Mu, 10, 10^i) - gamma > 0 )\n",
    "  print(MC_region, 1-larger_than_gamma)\n",
    "  if MC_region > 1-larger_than_gamma:\n",
    "    print(\"done\")\n",
    "    break\n",
    "print(i)"
   ]
  },
  {
   "cell_type": "code",
   "execution_count": null,
   "metadata": {},
   "outputs": [],
   "source": []
  }
 ],
 "metadata": {
  "kernelspec": {
   "display_name": "Python 3",
   "language": "python",
   "name": "python3"
  },
  "language_info": {
   "codemirror_mode": {
    "name": "ipython",
    "version": 3
   },
   "file_extension": ".py",
   "mimetype": "text/x-python",
   "name": "python",
   "nbconvert_exporter": "python",
   "pygments_lexer": "ipython3",
   "version": "3.6.6"
  }
 },
 "nbformat": 4,
 "nbformat_minor": 2
}
